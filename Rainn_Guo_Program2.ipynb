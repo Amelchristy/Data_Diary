{
  "cells": [
    {
      "cell_type": "markdown",
      "id": "78d063e2",
      "metadata": {
        "id": "78d063e2"
      },
      "source": [
        "<p style=\"font-size: 20px;\"><i>Part 1:</i> Exploring <b>If Statements</b><br><br>\n",
        "<b>Description:</b> The purpose of this program is to give you practice evaluating and implementing if statements.<br><br>\n",
        "<b>Objective:</b> Develop a program that allows students to know the mean, population variance, maximum, and minimum of three integer numbers between 0 and 100 inclusive."
      ]
    },
    {
      "cell_type": "markdown",
      "id": "204d512d",
      "metadata": {
        "id": "204d512d"
      },
      "source": [
        "# 0. Student Information\n",
        "Write a header comment that includes your name, the date, the assignment and a brief description of the program."
      ]
    },
    {
      "cell_type": "code",
      "execution_count": 2,
      "id": "7b1fcb89",
      "metadata": {
        "colab": {
          "base_uri": "https://localhost:8080/",
          "height": 35
        },
        "id": "7b1fcb89",
        "outputId": "524be2d1-e5d0-414b-e1a5-da71d19c9e34"
      },
      "outputs": [
        {
          "data": {
            "text/plain": [
              "'PLEASE FILL IN YOUR INFORMATION AFTER EACH COLON'"
            ]
          },
          "execution_count": 2,
          "metadata": {},
          "output_type": "execute_result"
        }
      ],
      "source": [
        "### BEGIN YOUR HEADER COMMENT\n",
        "\n",
        "'''PLEASE FILL IN YOUR INFORMATION AFTER EACH COLON'''\n",
        "\n",
        "# Your name: Rainn Guo\n",
        "\n",
        "# The date you start the assignment: 11/6/2023\n",
        "\n",
        "# Brief description:  This is the Program 2 from CSE-012 of Lehigh University.\n",
        "\n",
        "### END YOUR HEADER COMMENT"
      ]
    },
    {
      "cell_type": "markdown",
      "id": "4cc1959a",
      "metadata": {
        "id": "4cc1959a"
      },
      "source": [
        "# 1. Import Libraries\n",
        "Necessary libraries typically are imported at the begining of the program\n"
      ]
    },
    {
      "cell_type": "code",
      "execution_count": 3,
      "id": "0b2c3b58",
      "metadata": {
        "id": "0b2c3b58"
      },
      "outputs": [],
      "source": [
        "# You don't need to do anything in this cell for this assinment.\n",
        "\n",
        "# Example\n",
        "import sys"
      ]
    },
    {
      "cell_type": "markdown",
      "id": "c21388ec",
      "metadata": {
        "id": "c21388ec"
      },
      "source": [
        "# 2. named constants.\n",
        "Declare all named constants after the import section"
      ]
    },
    {
      "cell_type": "code",
      "execution_count": 1,
      "id": "76a09e09",
      "metadata": {
        "id": "76a09e09"
      },
      "outputs": [],
      "source": [
        "# You don't need to do anything in this cell for this assignment. Only read the comments.\n",
        "\n",
        "OPTIONS = (\"A\",\"B\",\"C\",\"D\") # variable that holds the options of math program.\n",
        "\n",
        "NUMBER_RANGE = range(0,101) # variable that holds the range of number the student can input."
      ]
    },
    {
      "cell_type": "markdown",
      "id": "f323c6a9",
      "metadata": {
        "id": "f323c6a9"
      },
      "source": [
        "# 3. Getting user input and using If Statements to check its validity:\n",
        "\n",
        "(1). Get user choice with the input() function.<br>\n",
        "(2). Fill variables and If Statements with appropriate expressions and operators to show error messages for invalid input.<br>\n",
        "Sample output for the next code cell is included here: <br>\n",
        "\n",
        "<p style=\"font-family: 'Courier New', sans-serif;\">\n",
        "Welcome to the Math Program<br>\n",
        "A.Maximum<br>\n",
        "B.Minimum<br>\n",
        "C.Mean<br>\n",
        "D.Variance<br>\n",
        "&ensp;&ensp;&ensp;Enter your choice: F<br></p>\n",
        "\n",
        "<p style=\"font-family: 'Courier New', sans-serif;\">\n",
        "Your choice is invalid.<br><br>\n",
        "An exception has occurred, use %tb to see the full traceback.<br><br>\n",
        "<font color='red'><b>SystemExit</b></font><br></p>"
      ]
    },
    {
      "cell_type": "code",
      "execution_count": 4,
      "id": "6840c0fd",
      "metadata": {
        "colab": {
          "base_uri": "https://localhost:8080/"
        },
        "id": "6840c0fd",
        "outputId": "2d4de46d-1717-4b2d-8982-0b2af3125039"
      },
      "outputs": [
        {
          "name": "stdout",
          "output_type": "stream",
          "text": [
            "Welcome to the Math Program\n",
            "   A.Maximum\n",
            "   B.Minimum\n",
            "   C.Mean\n",
            "   D.Variance\n"
          ]
        }
      ],
      "source": [
        "print(\"Welcome to the Math Program\")\n",
        "print(\"   A.Maximum\")\n",
        "print(\"   B.Minimum\")\n",
        "print(\"   C.Mean\")\n",
        "print(\"   D.Variance\")\n",
        "\n",
        "### BEGIN CODE\n",
        "\n",
        "'''PLEASE REPLACE THE \"___\" IN THE IF STATEMENTS WITH THE APPROPRIATE MEMBERSHIP OPERATOR.\n",
        "PLEASE REPLACE \"None\" WITH THE APPROPRIATE FUNCTIONS, FORMULAS, VARIABLES OR VALUES.\n",
        "REFER TO THE COMMENTS FOR GUIDANCE:'''\n",
        "\n",
        "menu_choice = input(\"Enter your choice: \") # Input by a student. This holds the option that the student choose. Please note the indentation of texts.\n",
        "\n",
        "if menu_choice not in OPTIONS:# Determine that a student's input value is outside the OPTIONS of math program.\n",
        "    error_message = \"Your choice is invalid.\" # Inform the student that their input is invalid.\n",
        "    print(error_message)\n",
        "    sys.exit()\n",
        "\n",
        "    \n",
        "\n",
        "#\n",
        "# \n",
        "# ## END CODE"
      ]
    },
    {
      "cell_type": "markdown",
      "id": "b21be20a",
      "metadata": {
        "id": "b21be20a"
      },
      "source": [
        "Sample output for the next code cell is included here: <br>\n",
        "<p style=\"font-family: 'Courier New', sans-serif;\">\n",
        "Please enter first number:55<br>\n",
        "Please enter second number:27<br>\n",
        "Please enter third number:663<br></p>\n",
        "\n",
        "<p style=\"font-family: 'Courier New', sans-serif;\">\n",
        "The number you entered is invalid.<br><br>\n",
        "An exception has occurred, use %tb to see the full traceback.<br><br>\n",
        "<font color='red'><b>SystemExit</b></font><br></p>"
      ]
    },
    {
      "cell_type": "code",
      "execution_count": 5,
      "id": "695ea855",
      "metadata": {
        "colab": {
          "base_uri": "https://localhost:8080/"
        },
        "id": "695ea855",
        "outputId": "f94afdee-8936-434f-bf96-91686a16ec93"
      },
      "outputs": [],
      "source": [
        "### BEGIN CODE\n",
        "\n",
        "'''PLEASE REPLACE THE \"___\" IN THE IF STATEMENTS WITH THE APPROPRIATE MEMBERSHIP OPERATOR.\n",
        "PLEASE REPLACE \"None\" WITH THE APPROPRIATE FUNCTIONS, FORMULAS, VARIABLES OR VALUES.\n",
        "REFER TO THE COMMENTS FOR GUIDANCE:'''\n",
        "\n",
        "first_number = int(input(\"Please enter first number: \")) # Input by a student. This holds the first number that the student input. Use int() function to transform it from a string to a integer.\n",
        "if first_number not in NUMBER_RANGE: # Determine that the student's first input value is outside the NUMBER_RANGE.\n",
        "    error_message = \"The number you entered is invalid.\" # Inform the student that their input value is invalid.\n",
        "    print(error_message)\n",
        "    sys.exit()\n",
        "\n",
        "second_number = int(input(\"Please enter second number: \")) # Input by a student. This holds the second number that the student input. Use int() function to transform it from a string to a integer.\n",
        "if second_number not in NUMBER_RANGE: # Determine that the student's second input value is outside the NUMBER_RANGE.\n",
        "    error_message = \"The number you entered is invalid.\" # Inform the student that their input value is invalid.\n",
        "    print(error_message)\n",
        "    sys.exit()\n",
        "\n",
        "third_number = int(input(\"Please enter third number: \")) # Input by a student. This holds the third number that the student input. Use int() function to transform it from a string to a integer.\n",
        "if third_number not in NUMBER_RANGE: # Determine that the student's third input value is outside the NUMBER_RANGE.\n",
        "    error_message = \"The number you entered is invalid.\" # Inform the student that their input value is invalid.\n",
        "    print(error_message)\n",
        "    sys.exit()\n",
        "\n",
        "### END CODE"
      ]
    },
    {
      "cell_type": "markdown",
      "id": "73660dcb",
      "metadata": {
        "id": "73660dcb"
      },
      "source": [
        "# 4. Calculations\n",
        "Evaluate the following expressions\n",
        "\n",
        "Hints:<br>\n",
        "The mean of three integers: $\\frac{x_{1}+x_{2}+x_{3}}{3}$<br>\n",
        "The population variance of three integers: $\\frac{(x_{1}-mean)^{2}+(x_{2}-mean)^{2}+(x_{3}-mean)^{2}}{3}$"
      ]
    },
    {
      "cell_type": "code",
      "execution_count": 10,
      "id": "30602f0a",
      "metadata": {
        "id": "30602f0a"
      },
      "outputs": [],
      "source": [
        "### BEGIN CODE\n",
        "\n",
        "'''PLEASE REPLACE \"None\" WITH THE APPROPRIATE FUNCTIONS, FORMULAS, VARIABLES OR VALUES.\n",
        "REFER TO THE COMMENTS FOR GUIDANCE:'''\n",
        "\n",
        "integer_tuple = (first_number, second_number, third_number) # A tuple that holds the student's input numbers in order.\n",
        "\n",
        "maximum = round(max(integer_tuple), 2) # Calculate the maximum of the three integers input by the student. Use round() function to keep the result to two decimal places.\n",
        "\n",
        "minimum = round(min(integer_tuple), 2) # Calculate the maximum of the three integers input by the student. Use round() function to keep the result to two decimal places.\n",
        "\n",
        "mean = round(sum(integer_tuple) / 3, 2) # Calculate the mean of the three integers input by the student. Use round() function to keep the result to two decimal places.\n",
        "\n",
        "variance = round(sum((x - mean) ** 2 for x in integer_tuple) / 3, 2) # Calculate the variance of the three integers input by the student. Use round() function to keep the result to two decimal places.\n",
        "\n",
        "### END CODE"
      ]
    },
    {
      "cell_type": "markdown",
      "id": "add1ba0f",
      "metadata": {
        "id": "add1ba0f"
      },
      "source": [
        "# 5. Display output using If Statements:\n",
        "Fill variables and If Statements with appropriate expressions and operators to display results based on user choice.<br>\n",
        "Two kinds of sample output is included here:\n",
        "<p style=\"font-family: 'Courier New', sans-serif;\">\n",
        "The first number you input: <b>9</b><br>\n",
        "The second number you input:  <b>60</b><br>\n",
        "The third number you input: <b>27</b><br>\n",
        "The mean of (9, 60, 27) :  <b>32.00</b><br></p>\n",
        "\n",
        "<p style=\"font-family: 'Courier New', sans-serif;\">\n",
        "The first number you input: <b>4</b><br>\n",
        "The second number you input:  <b>79</b><br>\n",
        "The third number you input: <b>10</b><br>\n",
        "The maximum of (4, 79, 10) :  <b>79.00</b><br></p>"
      ]
    },
    {
      "cell_type": "code",
      "execution_count": 19,
      "id": "af5456d4",
      "metadata": {
        "colab": {
          "base_uri": "https://localhost:8080/"
        },
        "id": "af5456d4",
        "outputId": "178d9b84-a0be-4e53-965c-4d28d36fbba1"
      },
      "outputs": [
        {
          "name": "stdout",
          "output_type": "stream",
          "text": [
            "The first number you input: 9\n",
            "The second number you input: 60\n",
            "The third number you input: 27\n",
            "The mean of (9, 60, 27) :  32.00\n"
          ]
        }
      ],
      "source": [
        "### BEGIN CODE\n",
        "\n",
        "'''PLEASE REPLACE THE \"__\" IN THE IF STATEMENTS WITH THE APPROPRIATE OPERATOR.\n",
        "PLEASE REPLACE \"None\" WITH THE APPROPRIATE FUNCTIONS, FORMULAS, VARIABLES OR VALUES.\n",
        "REFER TO THE COMMENTS FOR GUIDANCE:'''\n",
        "\n",
        "if menu_choice == \"A\": # Determine that the student's menu choice is the first option of (A,B,C,D)\n",
        "    print(f\"The first number you input: {first_number}\") # Print the first number input by the student.\n",
        "    print(f\"The second number you input: {second_number}\") # Print the second number input by the student.\n",
        "    print(f\"The third number you input: {third_number}\") # Print the third number input by the student.\n",
        "    print(f\"The maximum of {(first_number), (second_number), (third_number)} :  {maximum:.2f}\") # Print the maximum of these three integers. Do not change or delete the \":.2f\" here.\n",
        "\n",
        "if menu_choice == \"B\": # Determine that the student's menu choice is the second option of (A,B,C,D)\n",
        "    print(f\"The first number you input: {first_number}\") # Print the first number input by the student.\n",
        "    print(f\"The second number you input: {second_number}\") # Print the second number input by the student.\n",
        "    print(f\"The third number you input: {third_number}\") # Print the third number input by the student.\n",
        "    print(f\"The minimum of {(first_number), (second_number), (third_number)} :  {minimum:.2f}\") # Print the minimum of these three integers. Do not change or delete the \":.2f\" here.\n",
        "\n",
        "if menu_choice == \"C\": # Determine that the student's menu choice is the third option of (A,B,C,D)\n",
        "    print(f\"The first number you input: {first_number}\") # Print the first number input by the student.\n",
        "    print(f\"The second number you input: {second_number}\") # Print the second number input by the student.\n",
        "    print(f\"The third number you input: {third_number}\") # Print the third number input by the student.\n",
        "    print(f\"The mean of {(first_number), (second_number), (third_number)} :  {mean:.2f}\") # Print the mean of these three integers. Do not change or delete the \":.2f\" here.\n",
        "\n",
        "if menu_choice == \"D\": # Determine that the student's menu choice is the fourth option of (A,B,C,D)\n",
        "    print(f\"The first number you input: {first_number}\") # Print the first number input by the student.\n",
        "    print(f\"The second number you input: {second_number}\") # Print the second number input by the student.\n",
        "    print(f\"The third number you input: {third_number}\") # Print the third number input by the student.\n",
        "    print(f\"The variance of {(first_number), (second_number), (third_number)} :  {variance:.2f}\") # Print the variance of these three integers. Do not change or delete the \":.2f\" here.\n",
        "\n",
        "### END CODE"
      ]
    },
    {
      "cell_type": "markdown",
      "id": "58d391e8",
      "metadata": {
        "id": "58d391e8"
      },
      "source": [
        "<p style=\"font-size: 20px;\"><i>Part 2:</i> Programming with <b>If Statements</b><br><br>\n",
        "<b>Description:</b> The purpose of this program is to give you practice evaluating and implementing if statements.<br><br>\n",
        "<b>Objective:</b> Develop a program that simulates the classic casino game, Craps. This game involves rolling two six-sided dice and evaluating the result of the roll."
      ]
    },
    {
      "cell_type": "markdown",
      "id": "dde243e7",
      "metadata": {
        "id": "dde243e7"
      },
      "source": [
        "# 1. Import Libraries\n",
        "Necessary libraries typically are imported at the begining of the program"
      ]
    },
    {
      "cell_type": "code",
      "execution_count": 1,
      "id": "632894de",
      "metadata": {
        "id": "632894de"
      },
      "outputs": [],
      "source": [
        "# You don't need to do anything in this cell for this assinment.\n",
        "\n",
        "# Example\n",
        "import random"
      ]
    },
    {
      "cell_type": "markdown",
      "id": "47874bc3",
      "metadata": {
        "id": "47874bc3"
      },
      "source": [
        "# 2. named constants.\n",
        "Declare all named constants after the import section"
      ]
    },
    {
      "cell_type": "code",
      "execution_count": 2,
      "id": "a90f060a",
      "metadata": {
        "id": "a90f060a"
      },
      "outputs": [],
      "source": [
        "# You don't need to do anything in this cell for this assignment. Only read the comments.\n",
        "\n",
        "NUMBER_RANGE = range(1,7) # variable that holds the range of dice roll outcome."
      ]
    },
    {
      "cell_type": "markdown",
      "id": "bddef7a4",
      "metadata": {
        "id": "bddef7a4"
      },
      "source": [
        "# 3. Getting user input and using If Statements to determine the next steps:\n",
        "\n",
        "(1). Get user choice with the input() function.<br>\n",
        "(2). Take different paths based on user choice.<br>\n",
        "Sample output is included here: <br>\n",
        "\n",
        "<p style=\"font-family: 'Courier New', sans-serif;\">Welcome to the Craps! <br>\n",
        "A.I'd like to randomly cast dice. <br>\n",
        "B.I'd like to state the two dice.  <br>\n",
        "&ensp;&ensp;&ensp;Enter your choice: B<br>\n",
        "&ensp;&ensp;&ensp;Enter the point of your first die:<b>6</b><br>\n",
        "&ensp;&ensp;&ensp;Enter the point of your second die:<b>1</b></p>"
      ]
    },
    {
      "cell_type": "code",
      "execution_count": 3,
      "id": "0d5261ee",
      "metadata": {
        "colab": {
          "base_uri": "https://localhost:8080/"
        },
        "id": "0d5261ee",
        "outputId": "b782fdde-791f-4cf6-9fda-6189d06afc56"
      },
      "outputs": [
        {
          "name": "stdout",
          "output_type": "stream",
          "text": [
            "Welcome to the Craps\n",
            "   A.I'd like to randomly cast dice.\n",
            "   B.I'd like to state the two dice\n",
            "Enter your choice: B\n",
            "Enter the point of your first die: 2\n",
            "Enter the point of your second die: 3\n"
          ]
        }
      ],
      "source": [
        "print(\"Welcome to the Craps\")\n",
        "print(\"   A.I'd like to randomly cast dice.\")\n",
        "print(\"   B.I'd like to state the two dice\")\n",
        "\n",
        "### BEGIN CODE\n",
        "\n",
        "'''PLEASE REPLACE THE \"___\" IN THE IF STATEMENTS WITH THE APPROPRIATE OPERATOR.\n",
        "PLEASE REPLACE \"None\" WITH THE APPROPRIATE FUNCTIONS, FORMULAS, VARIABLES OR VALUES.\n",
        "REFER TO THE COMMENTS FOR GUIDANCE:'''\n",
        "\n",
        "dice_choice  = input(\"Enter your choice: \") # Input by a player. This holds the method of rolling dice chosen by the player.\n",
        "\n",
        "if dice_choice == \"A\": # Determine that the player want to randomly cast dice.\n",
        "    first_die = random.choice(NUMBER_RANGE)  # generate a number from the range of dice roll outcome.\n",
        "    second_die = random.choice(NUMBER_RANGE)  # generate a number from the range of dice roll outcome.\n",
        "\n",
        "if dice_choice == \"B\": # Determine that the player want to state the two dice.\n",
        "    first_die = int(input(\"Enter the point of your first die: \")) # Input by a player.This holds the number of the first die specified by the player. Use int() function to transform it from a string to a integer.\n",
        "    second_die = int(input(\"Enter the point of your second die: \")) # Input by a player.This holds the number of the second die specified by the player. Use int() function to transform it from a string to a integer.\n",
        "\n",
        "### END CODE"
      ]
    },
    {
      "cell_type": "markdown",
      "id": "78893ff2",
      "metadata": {
        "id": "78893ff2"
      },
      "source": [
        "# 4. Using If Statements to link slang terms to dice roll outcomes:\n",
        "\n",
        "Sample table is included here:\n",
        "\n",
        "$$\n",
        "\\begin{array}{|c|c|c|}\n",
        "\\hline\n",
        "\\text{} & \\text{1} & \\text{2}& \\text{3}& \\text{4}& \\text{5} & \\text{6}\\\\\n",
        "\\hline\n",
        "\\text{1} & \\text{Snake Eyes} & \\text{}& \\text{}& \\text{}& \\text{} & \\text{}\\\\\n",
        "\\hline\n",
        "\\text{2} & \\text{Ace Deuce} & \\text{Hard Four}& \\text{}& \\text{}& \\text{} & \\text{}\\\\\n",
        "\\hline\n",
        "\\text{3} & \\text{Easy Four} & \\text{Fever Five}& \\text{Hard Six}& \\text{}& \\text{} & \\text{}\\\\\n",
        "\\hline\n",
        "\\text{4} & \\text{Fever Five} & \\text{Easy Six}& \\text{Seven Out}& \\text{Hard Eight}& \\text{} & \\text{}\\\\\n",
        "\\hline\n",
        "\\text{5} & \\text{Easy Six} & \\text{Seven Out}& \\text{Easy Eight}& \\text{Nine}& \\text{Hard Ten} & \\text{}\\\\\n",
        "\\hline\n",
        "\\text{6} & \\text{Seven Out} & \\text{Easy Eight}& \\text{Nine}& \\text{Easy Ten}& \\text{Yo-leven} & \\text{Boxcards}\\\\\n",
        "\\hline\n",
        "\\end{array}\n",
        "$$\n",
        "\n",
        "For example:<br>\n",
        "1)If both of the two dice are one, the name of the roll is <b>Snake Eyes</b>. <br>\n",
        "2)If both of the two dice are two, the name is <b>Hard Four</b>.<br>\n",
        "3)If one dice is 1 and the other dice 3, the name is <b>Easy Four</b>. <br>\n",
        "The sequence in which the individual numbers are rolled is immaterial."
      ]
    },
    {
      "cell_type": "code",
      "execution_count": 4,
      "id": "0cbc1ce6",
      "metadata": {
        "id": "0cbc1ce6"
      },
      "outputs": [],
      "source": [
        "### BEGIN CODE\n",
        "\n",
        "'''PLEASE REPLACE THE \"___________\" IN THE IF STATEMENTS WITH THE APPROPRIATE CONDITION.\n",
        "PLEASE REPLACE \"None\" WITH THE APPROPRIATE FUNCTIONS, FORMULAS, VARIABLES OR VALUES.\n",
        "REFER TO THE COMMENTS FOR GUIDANCE:'''\n",
        "\n",
        "if first_die == 1 and second_die == 1:# Determine the points of the two dice for \"Snake Eyes\".\n",
        "    slang_terminology = \"Snake Eyes\"\n",
        "\n",
        "if (first_die == 1 and second_die == 2) or (first_die == 2 and second_die == 1):# Determine the points of the two dice for \"Ace Deuce\".\n",
        "    slang_terminology = \"Ace Deuce\"\n",
        "\n",
        "if (first_die == 1 and second_die == 3) or (first_die == 3 and second_die == 1):# Determine the points of the two dice for \"Easy Four\".\n",
        "    slang_terminology = \"Easy Four\"\n",
        "\n",
        "if (first_die == 2 and second_die == 2):# Determine the points of the two dice for \"Hard Four\".\n",
        "    slang_terminology = \"Hard Four\"\n",
        "\n",
        "if (first_die + second_die == 5):# Determine the points of the two dice for \"Fever Five\".\n",
        "    slang_terminology = \"Fever Five\"\n",
        "\n",
        "if (first_die + second_die == 6):# Determine the points of the two dice for \"Easy Six\".\n",
        "    slang_terminology = \"Easy Six\"\n",
        "\n",
        "if (first_die == 3 and second_die == 3):# Determine the points of the two dice for \"Hard Six\".\n",
        "    slang_terminology = \"Hard Six\"\n",
        "\n",
        "if (first_die + second_die == 7):# Determine the points of the two dice for \"Seven Out\".\n",
        "    slang_terminology = \"Seven Out\"\n",
        "\n",
        "if (first_die + second_die == 8):# Determine the points of the two dice for \"Easy Eight\".\n",
        "    slang_terminology = \"Easy Eight\"\n",
        "\n",
        "if (first_die == 4 and second_die == 4):# Determine the points of the two dice for \"Hard Eight\".\n",
        "    slang_terminology = \"Hard Eight\"\n",
        "\n",
        "if (first_die + second_die == 9):# Determine the points of the two dice for \"Nine\".\n",
        "    slang_terminology = \"Nine\"\n",
        "\n",
        "if (first_die == 4 and second_die == 6) or (first_die == 6 and second_die == 4):# Determine the points of the two dice for \"Easy Ten\".\n",
        "    slang_terminology = \"Easy Ten\"\n",
        "\n",
        "if (first_die == 5 and second_die == 5):# Determine the points of the two dice for \"Hard Ten\".\n",
        "    slang_terminology = \"Hard Ten\"\n",
        "\n",
        "if (first_die == 5 and second_die == 6) or (first_die == 6 and second_die == 5):# Determine the points of the two dice for \"Yo-leven\".\n",
        "    slang_terminology = \"Yo-leven\"\n",
        "\n",
        "if (first_die == 6 and second_die == 6):# Determine the points of the two dice for \"Boxcards\".\n",
        "    slang_terminology = \"Boxcards\"\n",
        "\n",
        "### END CODE"
      ]
    },
    {
      "cell_type": "markdown",
      "id": "acc0c5de",
      "metadata": {
        "id": "acc0c5de"
      },
      "source": [
        "# 5. Display output\n",
        "<br>\n",
        "Sample output based on the sample data at the 3rd step (Getting user input and using If Statements to determine the next steps) is included here: <br>\n",
        "<p style=\"font-family: 'Courier New', sans-serif;\">\n",
        "You rolled a 6 and 1 is Seven Out</p>"
      ]
    },
    {
      "cell_type": "code",
      "execution_count": 5,
      "id": "4febc5cb",
      "metadata": {
        "colab": {
          "base_uri": "https://localhost:8080/"
        },
        "id": "4febc5cb",
        "outputId": "7befc370-943e-494e-f600-b88e8affa8aa"
      },
      "outputs": [
        {
          "name": "stdout",
          "output_type": "stream",
          "text": [
            "You rolled a 2 and 3 is Fever Five\n"
          ]
        }
      ],
      "source": [
        "### BEGIN CODE\n",
        "\n",
        "'''PLEASE REPLACE \"None\" WITH THE APPROPRIATE FUNCTIONS, FORMULAS, VARIABLES OR VALUES.\n",
        "REFER TO THE COMMENTS FOR GUIDANCE:'''\n",
        "\n",
        "print(f\"You rolled a {first_die} and {second_die} is {slang_terminology}\") # print the points of two dice and the corresponding slang terminology.\n",
        "\n",
        "### END CODE"
      ]
    },
    {
      "cell_type": "markdown",
      "id": "248acb80",
      "metadata": {
        "id": "248acb80"
      },
      "source": [
        "## Attention: After you completed each part, right before submission, Click  **Kernel - Restart & Run All**, then input all necessary data in relevant Code Cells. Then submit the jupyter notebook with all its outputs (don't clear the outputs)."
      ]
    },
    {
      "cell_type": "markdown",
      "id": "2b400758",
      "metadata": {
        "id": "2b400758"
      },
      "source": []
    }
  ],
  "metadata": {
    "colab": {
      "provenance": []
    },
    "kernelspec": {
      "display_name": "Python 3 (ipykernel)",
      "language": "python",
      "name": "python3"
    },
    "language_info": {
      "codemirror_mode": {
        "name": "ipython",
        "version": 3
      },
      "file_extension": ".py",
      "mimetype": "text/x-python",
      "name": "python",
      "nbconvert_exporter": "python",
      "pygments_lexer": "ipython3",
      "version": "3.11.3"
    }
  },
  "nbformat": 4,
  "nbformat_minor": 5
}
